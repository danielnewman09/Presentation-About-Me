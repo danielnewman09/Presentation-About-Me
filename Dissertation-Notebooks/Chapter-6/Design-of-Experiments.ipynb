{
 "cells": [
  {
   "cell_type": "markdown",
   "metadata": {},
   "source": [
    "# Design of Experiments for Varying Feeds, Speeds, Depths of Cut\n",
    "\n",
    "3-level, 3-factor full factorial DoE design\n",
    "\n",
    "27 total conditions per tool\n",
    "\n",
    "# Constant Feeds and Speeds, Varying Depth of Cut\n",
    "\n",
    "1-factor, 5-level DoE design\n",
    "\n",
    "cutting depth: (5, 10, 15, 20, 25) percent of diameter\n",
    "\n",
    "5 Repetitions\n",
    "\n",
    "25 total conditions\n",
    "\n",
    "\n",
    "\n",
    "Assuming a maximum total data acquisition and inference time of 6 seconds, it should be possible to perform 2 samples for each pass. Use Node Red to ensure exactly 2 samples are captured.\n",
    "\n",
    "Sample at 32kHz. Use a 32k point FFT to get frequency resolutions of 1Hz. Nyquist Frequency is 16kHz. The PSD from Welch's method will have 16k points. Sampling for 2 seconds, each vibration sample will contain 64k points.\n",
    "\n",
    "\n",
    "Trigger Sample when feed begins. Flag each with an itemInstanceId for the sample\n",
    "\n",
    "\n"
   ]
  },
  {
   "cell_type": "code",
   "execution_count": 27,
   "metadata": {},
   "outputs": [],
   "source": [
    "import numpy as np\n",
    "import pandas as pd\n",
    "np.random.seed(123456)"
   ]
  },
  {
   "cell_type": "code",
   "execution_count": 28,
   "metadata": {},
   "outputs": [],
   "source": [
    "surfaceSpeed = np.array([200,250,300])\n",
    "cuttingDepth = np.array([5,15,25])\n",
    "chipLoad = np.array([0.001,0.002,0.003])\n",
    "\n",
    "toolDiam = 0.625\n",
    "toothCount = 4\n",
    "\n",
    "validCount = 10\n",
    "nCols = 3\n",
    "\n",
    "maxDepth = 1.8\n",
    "\n",
    "scalingArray = np.ones((validCount,nCols))\n",
    "scalingArray[:,0] = 100\n",
    "scalingArray[:,1] = 20\n",
    "scalingArray[:,2] = 0.002\n",
    "\n",
    "\n",
    "shiftingArray = np.ones((validCount,nCols))\n",
    "shiftingArray[:,0] = 200\n",
    "shiftingArray[:,1] = 5\n",
    "shiftingArray[:,2] = 0.001\n",
    "\n",
    "validDoE = np.random.random((validCount,nCols)) * scalingArray + shiftingArray"
   ]
  },
  {
   "cell_type": "code",
   "execution_count": 29,
   "metadata": {},
   "outputs": [],
   "source": [
    "DoE = np.zeros((27,3))\n",
    "columns = ['Surface Speed','Percent Axial Depth','Chip Load','Axial Stepover','Ending Depth']"
   ]
  },
  {
   "cell_type": "code",
   "execution_count": 30,
   "metadata": {},
   "outputs": [],
   "source": [
    "counter = 0\n",
    "for i in range(3):\n",
    "    for j in range(3):\n",
    "        for k in range(3):\n",
    "            DoE[counter,:] = np.array([surfaceSpeed[i],cuttingDepth[j],chipLoad[k]])\n",
    "            counter +=1\n",
    "np.random.shuffle(DoE)\n",
    "\n",
    "fullDoE = np.vstack((DoE,validDoE))"
   ]
  },
  {
   "cell_type": "code",
   "execution_count": 31,
   "metadata": {},
   "outputs": [],
   "source": [
    "axialStep = np.atleast_2d(fullDoE[:,1] * toolDiam / 100).T\n",
    "matDepth = np.cumsum(axialStep)"
   ]
  },
  {
   "cell_type": "code",
   "execution_count": 32,
   "metadata": {},
   "outputs": [],
   "source": [
    "while np.any(matDepth > maxDepth):\n",
    "    matDepth[matDepth > maxDepth] -= matDepth[matDepth > maxDepth][0]\n",
    "matDepth = np.atleast_2d(matDepth).T"
   ]
  },
  {
   "cell_type": "code",
   "execution_count": 33,
   "metadata": {},
   "outputs": [],
   "source": [
    "fullDoE = np.hstack((fullDoE,axialStep,matDepth))\n",
    "fullDoE = np.round(fullDoE,4)"
   ]
  },
  {
   "cell_type": "code",
   "execution_count": 34,
   "metadata": {},
   "outputs": [],
   "source": [
    "DoEDF = pd.DataFrame(fullDoE,columns=columns)\n",
    "DoEDF.to_csv('DoE.csv')"
   ]
  },
  {
   "cell_type": "code",
   "execution_count": null,
   "metadata": {},
   "outputs": [],
   "source": []
  }
 ],
 "metadata": {
  "kernelspec": {
   "display_name": "Python 3",
   "language": "python",
   "name": "python3"
  },
  "language_info": {
   "codemirror_mode": {
    "name": "ipython",
    "version": 3
   },
   "file_extension": ".py",
   "mimetype": "text/x-python",
   "name": "python",
   "nbconvert_exporter": "python",
   "pygments_lexer": "ipython3",
   "version": "3.7.4"
  }
 },
 "nbformat": 4,
 "nbformat_minor": 4
}
